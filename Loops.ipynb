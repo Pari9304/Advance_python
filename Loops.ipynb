{
 "cells": [
  {
   "cell_type": "code",
   "execution_count": 1,
   "id": "007083be-8fff-481d-9724-70b237c4cd7f",
   "metadata": {},
   "outputs": [
    {
     "name": "stdout",
     "output_type": "stream",
     "text": [
      "apple\n",
      "cherry\n",
      "grapes\n",
      "strawberry\n"
     ]
    }
   ],
   "source": [
    "for fruits in ['apple', 'cherry', 'grapes', 'strawberry']:\n",
    "  print(fruits)"
   ]
  },
  {
   "cell_type": "code",
   "execution_count": 2,
   "id": "a70892c1-21ee-4c41-a3fd-f95334b4395a",
   "metadata": {},
   "outputs": [
    {
     "name": "stdin",
     "output_type": "stream",
     "text": [
      "Enter the amount to withdraw:  35000\n"
     ]
    },
    {
     "name": "stdout",
     "output_type": "stream",
     "text": [
      "Sufficient balance.\n",
      "Dispense money\n"
     ]
    }
   ],
   "source": [
    "start_balance = 50000\n",
    "\n",
    "enteredamount = int(input(\"Enter the amount to withdraw: \"))\n",
    "\n",
    "\n",
    "if enteredamount > start_balance:\n",
    "    print(\"Insufficient balance!\")\n",
    "elif enteredamount < start_balance:\n",
    "    print(\"Sufficient balance.\")\n",
    "    if  enteredamount % 100 == 0:\n",
    "        print(\"Dispense money\")\n",
    "    else:\n",
    "        print(\"Please enter amount in a multiple of 100.\")"
   ]
  },
  {
   "cell_type": "code",
   "execution_count": 3,
   "id": "99dff815-0a3a-43e0-aad3-26d34114ce20",
   "metadata": {},
   "outputs": [
    {
     "name": "stdout",
     "output_type": "stream",
     "text": [
      "2 X 1 =  2\n",
      "2 X 2 =  4\n",
      "2 X 3 =  6\n",
      "2 X 4 =  8\n",
      "2 X 5 =  10\n",
      "2 X 6 =  12\n",
      "2 X 7 =  14\n",
      "2 X 8 =  16\n",
      "2 X 9 =  18\n",
      "2 X 10 =  20\n",
      "3 X 1 =  3\n",
      "3 X 2 =  6\n",
      "3 X 3 =  9\n",
      "3 X 4 =  12\n",
      "3 X 5 =  15\n",
      "3 X 6 =  18\n",
      "3 X 7 =  21\n",
      "3 X 8 =  24\n",
      "3 X 9 =  27\n",
      "3 X 10 =  30\n",
      "4 X 1 =  4\n",
      "4 X 2 =  8\n",
      "4 X 3 =  12\n",
      "4 X 4 =  16\n",
      "4 X 5 =  20\n",
      "4 X 6 =  24\n",
      "4 X 7 =  28\n",
      "4 X 8 =  32\n",
      "4 X 9 =  36\n",
      "4 X 10 =  40\n",
      "5 X 1 =  5\n",
      "5 X 2 =  10\n",
      "5 X 3 =  15\n",
      "5 X 4 =  20\n",
      "5 X 5 =  25\n",
      "5 X 6 =  30\n",
      "5 X 7 =  35\n",
      "5 X 8 =  40\n",
      "5 X 9 =  45\n",
      "5 X 10 =  50\n",
      "6 X 1 =  6\n",
      "6 X 2 =  12\n",
      "6 X 3 =  18\n",
      "6 X 4 =  24\n",
      "6 X 5 =  30\n",
      "6 X 6 =  36\n",
      "6 X 7 =  42\n",
      "6 X 8 =  48\n",
      "6 X 9 =  54\n",
      "6 X 10 =  60\n",
      "7 X 1 =  7\n",
      "7 X 2 =  14\n",
      "7 X 3 =  21\n",
      "7 X 4 =  28\n",
      "7 X 5 =  35\n",
      "7 X 6 =  42\n",
      "7 X 7 =  49\n",
      "7 X 8 =  56\n",
      "7 X 9 =  63\n",
      "7 X 10 =  70\n",
      "8 X 1 =  8\n",
      "8 X 2 =  16\n",
      "8 X 3 =  24\n",
      "8 X 4 =  32\n",
      "8 X 5 =  40\n",
      "8 X 6 =  48\n",
      "8 X 7 =  56\n",
      "8 X 8 =  64\n",
      "8 X 9 =  72\n",
      "8 X 10 =  80\n",
      "9 X 1 =  9\n",
      "9 X 2 =  18\n",
      "9 X 3 =  27\n",
      "9 X 4 =  36\n",
      "9 X 5 =  45\n",
      "9 X 6 =  54\n",
      "9 X 7 =  63\n",
      "9 X 8 =  72\n",
      "9 X 9 =  81\n",
      "9 X 10 =  90\n",
      "10 X 1 =  10\n",
      "10 X 2 =  20\n",
      "10 X 3 =  30\n",
      "10 X 4 =  40\n",
      "10 X 5 =  50\n",
      "10 X 6 =  60\n",
      "10 X 7 =  70\n",
      "10 X 8 =  80\n",
      "10 X 9 =  90\n",
      "10 X 10 =  100\n",
      "11 X 1 =  11\n",
      "11 X 2 =  22\n",
      "11 X 3 =  33\n",
      "11 X 4 =  44\n",
      "11 X 5 =  55\n",
      "11 X 6 =  66\n",
      "11 X 7 =  77\n",
      "11 X 8 =  88\n",
      "11 X 9 =  99\n",
      "11 X 10 =  110\n",
      "12 X 1 =  12\n",
      "12 X 2 =  24\n",
      "12 X 3 =  36\n",
      "12 X 4 =  48\n",
      "12 X 5 =  60\n",
      "12 X 6 =  72\n",
      "12 X 7 =  84\n",
      "12 X 8 =  96\n",
      "12 X 9 =  108\n",
      "12 X 10 =  120\n",
      "13 X 1 =  13\n",
      "13 X 2 =  26\n",
      "13 X 3 =  39\n",
      "13 X 4 =  52\n",
      "13 X 5 =  65\n",
      "13 X 6 =  78\n",
      "13 X 7 =  91\n",
      "13 X 8 =  104\n",
      "13 X 9 =  117\n",
      "13 X 10 =  130\n",
      "14 X 1 =  14\n",
      "14 X 2 =  28\n",
      "14 X 3 =  42\n",
      "14 X 4 =  56\n",
      "14 X 5 =  70\n",
      "14 X 6 =  84\n",
      "14 X 7 =  98\n",
      "14 X 8 =  112\n",
      "14 X 9 =  126\n",
      "14 X 10 =  140\n",
      "15 X 1 =  15\n",
      "15 X 2 =  30\n",
      "15 X 3 =  45\n",
      "15 X 4 =  60\n",
      "15 X 5 =  75\n",
      "15 X 6 =  90\n",
      "15 X 7 =  105\n",
      "15 X 8 =  120\n",
      "15 X 9 =  135\n",
      "15 X 10 =  150\n",
      "16 X 1 =  16\n",
      "16 X 2 =  32\n",
      "16 X 3 =  48\n",
      "16 X 4 =  64\n",
      "16 X 5 =  80\n",
      "16 X 6 =  96\n",
      "16 X 7 =  112\n",
      "16 X 8 =  128\n",
      "16 X 9 =  144\n",
      "16 X 10 =  160\n",
      "17 X 1 =  17\n",
      "17 X 2 =  34\n",
      "17 X 3 =  51\n",
      "17 X 4 =  68\n",
      "17 X 5 =  85\n",
      "17 X 6 =  102\n",
      "17 X 7 =  119\n",
      "17 X 8 =  136\n",
      "17 X 9 =  153\n",
      "17 X 10 =  170\n",
      "18 X 1 =  18\n",
      "18 X 2 =  36\n",
      "18 X 3 =  54\n",
      "18 X 4 =  72\n",
      "18 X 5 =  90\n",
      "18 X 6 =  108\n",
      "18 X 7 =  126\n",
      "18 X 8 =  144\n",
      "18 X 9 =  162\n",
      "18 X 10 =  180\n",
      "19 X 1 =  19\n",
      "19 X 2 =  38\n",
      "19 X 3 =  57\n",
      "19 X 4 =  76\n",
      "19 X 5 =  95\n",
      "19 X 6 =  114\n",
      "19 X 7 =  133\n",
      "19 X 8 =  152\n",
      "19 X 9 =  171\n",
      "19 X 10 =  190\n",
      "20 X 1 =  20\n",
      "20 X 2 =  40\n",
      "20 X 3 =  60\n",
      "20 X 4 =  80\n",
      "20 X 5 =  100\n",
      "20 X 6 =  120\n",
      "20 X 7 =  140\n",
      "20 X 8 =  160\n",
      "20 X 9 =  180\n",
      "20 X 10 =  200\n"
     ]
    }
   ],
   "source": [
    "for i in range(2,21):\n",
    "  for j in range(1,11):\n",
    "      print(f\"{i} X {j} = \", j*i)"
   ]
  },
  {
   "cell_type": "code",
   "execution_count": 4,
   "id": "f25243f5-9745-44dc-a1ac-a1ca46d97fc1",
   "metadata": {},
   "outputs": [
    {
     "name": "stdin",
     "output_type": "stream",
     "text": [
      "Guess the number:  5\n",
      "Guess the number:  7\n"
     ]
    },
    {
     "name": "stdout",
     "output_type": "stream",
     "text": [
      "correctly guessed!! the number actually is  7\n"
     ]
    }
   ],
   "source": [
    "secretnum = 7\n",
    "guess = -1\n",
    "\n",
    "while guess != secretnum:\n",
    "\n",
    "    guess = int(input(\"Guess the number: \"))\n",
    "\n",
    "print(\"correctly guessed!! the number actually is \", guess)"
   ]
  },
  {
   "cell_type": "code",
   "execution_count": 9,
   "id": "a28bec15-a1b9-4f87-a5ce-5a5e09f7b62b",
   "metadata": {},
   "outputs": [
    {
     "name": "stdout",
     "output_type": "stream",
     "text": [
      "Hey, Folks!!\n",
      "Hey, Folks!!\n",
      "Hey, Folks!!\n",
      "Hey, Folks!!\n",
      "Hey, Folks!!\n"
     ]
    }
   ],
   "source": [
    "x=1\n",
    "while x<=5:\n",
    "  print(\"Hey, Folks!!\")\n",
    "  x+=1"
   ]
  },
  {
   "cell_type": "code",
   "execution_count": 11,
   "id": "446f8032-2428-4eee-8473-50fc489e1641",
   "metadata": {},
   "outputs": [
    {
     "name": "stdout",
     "output_type": "stream",
     "text": [
      "1\n",
      "2\n",
      "3\n",
      "4\n",
      "number key found and its 5!!\n",
      "Target finished...gonna out of loop now!\n"
     ]
    }
   ],
   "source": [
    "for num in [1, 2, 3, 4, 5,6]:\n",
    "      if num==5:\n",
    "            print(\"number key found and its 5!!\")\n",
    "            break\n",
    "      print(num)\n",
    "print(\"Target finished...gonna out of loop now!\")"
   ]
  },
  {
   "cell_type": "code",
   "execution_count": 13,
   "id": "b7b57384-0546-4897-a08c-fff86d83fea7",
   "metadata": {},
   "outputs": [
    {
     "name": "stdout",
     "output_type": "stream",
     "text": [
      "1\n",
      "2\n",
      "3\n",
      "4\n",
      "number key found and its 5!!\n",
      "6\n"
     ]
    }
   ],
   "source": [
    "for num in [1, 2, 3, 4, 5,6]:\n",
    "      if num==5:\n",
    "            print(\"number key found and its 5!!\")\n",
    "            continue\n",
    "      print(num)"
   ]
  },
  {
   "cell_type": "code",
   "execution_count": 15,
   "id": "acdaa648-10f2-4cdb-aec7-520e870ae103",
   "metadata": {},
   "outputs": [
    {
     "name": "stdout",
     "output_type": "stream",
     "text": [
      "1 Ambala\n",
      "2 Banaras\n",
      "3 Calcutta\n",
      "4 Dilli\n"
     ]
    }
   ],
   "source": [
    "city = [\"Ambala\", \"Banaras\", \"Calcutta\", \"Dilli\"]\n",
    "for cities, index in enumerate(city,start=1):\n",
    "    print(cities, index)"
   ]
  },
  {
   "cell_type": "code",
   "execution_count": 17,
   "id": "c0fe1d1c-aab9-40d1-a952-6cecedd57771",
   "metadata": {},
   "outputs": [
    {
     "name": "stdout",
     "output_type": "stream",
     "text": [
      "2 X 1= 2\n",
      "2 X 2= 4\n",
      "2 X 3= 6\n",
      "2 X 4= 8\n",
      "2 X 5= 10\n",
      "2 X 6= 12\n",
      "2 X 7= 14\n",
      "2 X 8= 16\n",
      "2 X 9= 18\n",
      "2 X 10= 20\n"
     ]
    }
   ],
   "source": [
    "j=2\n",
    "for i in range(1,11):\n",
    "  print(f\"{j} X {i}=\",j*i)"
   ]
  },
  {
   "cell_type": "code",
   "execution_count": 19,
   "id": "0f2c03ba-0e34-4a3e-8790-083053b7cf2c",
   "metadata": {},
   "outputs": [
    {
     "name": "stdout",
     "output_type": "stream",
     "text": [
      "p\n",
      "y\n",
      "t\n",
      "h\n",
      "o\n",
      "n\n"
     ]
    }
   ],
   "source": [
    "string=\"python\"\n",
    "index = 0\n",
    "while index < len(string):\n",
    "  print(string[index])\n",
    "  index += 1"
   ]
  },
  {
   "cell_type": "code",
   "execution_count": 23,
   "id": "42240a8e-4d6b-45ff-a557-0afb689b7574",
   "metadata": {},
   "outputs": [
    {
     "name": "stdin",
     "output_type": "stream",
     "text": [
      "enter the no. 45\n"
     ]
    },
    {
     "name": "stdout",
     "output_type": "stream",
     "text": [
      "Sum: 1035\n"
     ]
    }
   ],
   "source": [
    "N = int(input(\"enter the no.\"))\n",
    "total = 0\n",
    "for num in range(1, N + 1):\n",
    "    total += num\n",
    "print(\"Sum:\", total)"
   ]
  },
  {
   "cell_type": "code",
   "execution_count": 25,
   "id": "672c0c18-899e-4426-bf1d-6e577abb8f2b",
   "metadata": {},
   "outputs": [
    {
     "name": "stdout",
     "output_type": "stream",
     "text": [
      "1 a\n",
      "1 b\n",
      "1 c\n",
      "2 a\n",
      "2 b\n",
      "2 c\n",
      "3 a\n",
      "3 b\n",
      "3 c\n"
     ]
    }
   ],
   "source": [
    "for i in [1,2,3]:\n",
    "  for j in['a','b','c']:\n",
    "    print(i,j)"
   ]
  },
  {
   "cell_type": "code",
   "execution_count": null,
   "id": "220698da-a8fb-4b2e-b8fa-ca63c71503d1",
   "metadata": {},
   "outputs": [],
   "source": []
  },
  {
   "cell_type": "code",
   "execution_count": null,
   "id": "a37e9f07-4437-4012-aa32-00810447fe62",
   "metadata": {},
   "outputs": [],
   "source": []
  },
  {
   "cell_type": "code",
   "execution_count": null,
   "id": "f33c40a4-7564-4caf-b602-7c7ba6eb8d29",
   "metadata": {},
   "outputs": [],
   "source": []
  }
 ],
 "metadata": {
  "kernelspec": {
   "display_name": "Python 3 (ipykernel)",
   "language": "python",
   "name": "python3"
  },
  "language_info": {
   "codemirror_mode": {
    "name": "ipython",
    "version": 3
   },
   "file_extension": ".py",
   "mimetype": "text/x-python",
   "name": "python",
   "nbconvert_exporter": "python",
   "pygments_lexer": "ipython3",
   "version": "3.12.4"
  }
 },
 "nbformat": 4,
 "nbformat_minor": 5
}
