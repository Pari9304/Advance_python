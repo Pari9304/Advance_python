{
 "cells": [
  {
   "cell_type": "code",
   "execution_count": 1,
   "id": "69d92201-bbe4-48cc-849c-de5bc4b4846f",
   "metadata": {},
   "outputs": [
    {
     "name": "stdout",
     "output_type": "stream",
     "text": [
      "feat1 works\n",
      "feat2 works\n"
     ]
    }
   ],
   "source": [
    "class A:\n",
    "  def feat1(self):\n",
    "    print(\"feat1 works\")\n",
    "  def feat2(self):\n",
    "    print(\"feat2 works\")\n",
    "\n",
    "a1=A()\n",
    "a1.feat1()\n",
    "a1.feat2()"
   ]
  },
  {
   "cell_type": "code",
   "execution_count": 3,
   "id": "a8a062dd-9932-4f8d-82a6-df63320c46bb",
   "metadata": {},
   "outputs": [
    {
     "name": "stdout",
     "output_type": "stream",
     "text": [
      "feat1 works\n",
      "feat2 works\n",
      "feat3 works\n",
      "feat4 works\n"
     ]
    }
   ],
   "source": [
    "\n",
    "class A:\n",
    "  def feat1(self):\n",
    "    print(\"feat1 works\")\n",
    "  def feat2(self):\n",
    "    print(\"feat2 works\")\n",
    "\n",
    "class B(A):\n",
    "  def feat3(self):\n",
    "    print(\"feat3 works\")\n",
    "\n",
    "  def feat4(self):\n",
    "    print(\"feat4 works\")\n",
    "\n",
    "b1=B()\n",
    "b1.feat1()\n",
    "b1.feat2()\n",
    "b1.feat3()\n",
    "b1.feat4()"
   ]
  },
  {
   "cell_type": "code",
   "execution_count": 5,
   "id": "59684482-d9bc-4a15-bc3e-680e432305cc",
   "metadata": {},
   "outputs": [
    {
     "name": "stdout",
     "output_type": "stream",
     "text": [
      "feat5 works\n",
      "feat3 works\n"
     ]
    }
   ],
   "source": [
    "\n",
    "class A:\n",
    "  def feat1(self):\n",
    "    print(\"feat1 works\")\n",
    "  def feat2(self):\n",
    "    print(\"feat2 works\")\n",
    "\n",
    "class B(A):\n",
    "  def feat3(self):\n",
    "    print(\"feat3 works\")\n",
    "\n",
    "  def feat4(self):\n",
    "    print(\"feat4 works\")\n",
    "\n",
    "class C(B):\n",
    "  def feat5(self):\n",
    "    print(\"feat5 works\")\n",
    "\n",
    "  def feat6(self):\n",
    "    print(\"feat6 works\")\n",
    "\n",
    "c1=C()\n",
    "c1.feat5()\n",
    "c1.feat3()"
   ]
  },
  {
   "cell_type": "code",
   "execution_count": 7,
   "id": "3a65f24d-ee5e-48c9-93f3-6339d5ae1422",
   "metadata": {},
   "outputs": [
    {
     "name": "stdout",
     "output_type": "stream",
     "text": [
      "feat1 works\n",
      "feat2 works\n"
     ]
    }
   ],
   "source": [
    "class A:\n",
    "  def feat1(self):\n",
    "    print(\"feat1 works\")\n",
    "  def feat2(self):\n",
    "    print(\"feat2 works\")\n",
    "\n",
    "class B:\n",
    "  def feat3(self):\n",
    "    print(\"feat3 works\")\n",
    "\n",
    "  def feat4(self):\n",
    "    print(\"feat4 works\")\n",
    "\n",
    "class C(A, B):\n",
    "  def feat5(self):\n",
    "    print(\"feat5 works\")\n",
    "\n",
    "  def feat6(self):\n",
    "    print(\"feat6 works\")\n",
    "\n",
    "\n",
    "c1=C()\n",
    "c1.feat1()\n",
    "c1.feat2()"
   ]
  }
 ],
 "metadata": {
  "kernelspec": {
   "display_name": "Python 3 (ipykernel)",
   "language": "python",
   "name": "python3"
  },
  "language_info": {
   "codemirror_mode": {
    "name": "ipython",
    "version": 3
   },
   "file_extension": ".py",
   "mimetype": "text/x-python",
   "name": "python",
   "nbconvert_exporter": "python",
   "pygments_lexer": "ipython3",
   "version": "3.12.4"
  }
 },
 "nbformat": 4,
 "nbformat_minor": 5
}
